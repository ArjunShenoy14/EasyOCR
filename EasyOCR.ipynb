{
  "nbformat": 4,
  "nbformat_minor": 0,
  "metadata": {
    "colab": {
      "provenance": []
    },
    "kernelspec": {
      "name": "python3",
      "display_name": "Python 3"
    },
    "language_info": {
      "name": "python"
    },
    "accelerator": "GPU",
    "gpuClass": "standard"
  },
  "cells": [
    {
      "cell_type": "code",
      "execution_count": null,
      "metadata": {
        "id": "nICEa7FZaOgY"
      },
      "outputs": [],
      "source": [
        "!pip install easyocr"
      ]
    },
    {
      "cell_type": "code",
      "source": [
        "!pip install streamlit"
      ],
      "metadata": {
        "id": "xVUHtS7n00_A"
      },
      "execution_count": null,
      "outputs": []
    },
    {
      "cell_type": "code",
      "source": [
        "%%writefile app.py\n",
        "import streamlit as st\n",
        "import os\n",
        "import easyocr\n",
        "import cv2\n",
        "from matplotlib import pyplot as plt\n",
        "import numpy as np\n",
        "import re\n",
        "import sqlite3\n",
        "import json\n",
        "import pandas as pd\n",
        "import PIL\n",
        "from PIL import Image\n",
        "\n",
        "def sqlcon(df2):\n",
        "  #SQLlite connection\n",
        "  conn = sqlite3.connect('details.db')\n",
        "  c = conn.cursor()\n",
        "\n",
        "  c.execute('''CREATE TABLE IF NOT EXISTS Det(\n",
        "              Name TEXT,\n",
        "              Designation TEXT,\n",
        "              Email TEXT,\n",
        "              Address TEXT,\n",
        "              Mobile TEXT\n",
        "              )''')\n",
        "\n",
        "  #insert the data into the table\n",
        "  c.executemany('INSERT INTO Det VALUES(?,?,?,?,?)', zip(df2['Name'], df2['Designation'], df2['Email'], df2['Address'], df2['Mobile']))\n",
        "  #df.to_sql(\"Det\",conn,if_exists='replace',index=False)\n",
        "  conn.commit()\n",
        "  return \"Successfully uploaded to database\"\n",
        "\n",
        "def main():\n",
        "\n",
        "  st.markdown(\"<h1 style='text-align: center; color: yellow;'>Extracting text using EasyOCR</h1>\", unsafe_allow_html=True)\n",
        "\n",
        "\n",
        "  # Upload image\n",
        "  uploaded_file = st.file_uploader(\"Choose an image...\", type=[\"jpg\", \"jpeg\", \"png\"])\n",
        "\n",
        "  image_path=\"\"\n",
        "  if uploaded_file is not None:\n",
        "      # Display image\n",
        "      image = Image.open(uploaded_file)\n",
        "      st.image(image, caption='Uploaded Image', use_column_width=True)\n",
        "      \n",
        "\n",
        "      # save the image to disk and retrieve its path\n",
        "      with open(\"uploaded_image.jpg\", \"wb\") as f:\n",
        "          f.write(uploaded_file.getbuffer())\n",
        "          st.success(\"Image saved successfully!\")\n",
        "          image_path = f.name\n",
        "          st.write(\"Image saved at:\", image_path)\n",
        "\n",
        "      #IMAGE_PATH='/content/images/1.png'\n",
        "      reader = easyocr.Reader(['en'])\n",
        "\n",
        "      # Define regular expressions to extract relevant information\n",
        "      company_name_regex = r'(?:[A-Z][a-z]*\\s?)+\\b(?:Co\\.?|Ltd\\.?|Inc\\.?|LLC\\.?)?\\b'\n",
        "      name_regex = r'(?:[A-Z][a-z]*\\s?)+'\n",
        "      designation_regex = r'(?:[A-Z][a-z]*\\s?)+'\n",
        "      #mobile_regex = r'^\\d{3}-\\d{3}-\\d{4}$'\n",
        "      mobile_regex = r\"\\+\\d{2}-\\d{3}-\\d{4}|\\d{10}|\\+\\d{3}-\\d{3}-\\d{4}|\\d{3}-\\d{3}-\\d{4}\"\n",
        "      email_regex = r'\\b[A-Za-z0-9._%+-]+@[A-Za-z0-9.-]+\\.[A-Z|a-z]{2,}\\b'\n",
        "      #url_regex = r'(?:http[s]?://)?(?:[a-zA-Z]|[0-9]|[$-_@.&+]|[!*\\(\\),]|(?:%[0-9a-fA-F][0-9a-fA-F]))+'\n",
        "      url_regex = r\"^https?:\\/\\/(?:www\\.)?[-a-zA-Z0-9@:%._\\+~#=]{1,256}\\.[a-zA-Z0-9()]{1,6}\\b(?:[-a-zA-Z0-9()@:%_\\+.~#?&\\/=]*)$\"\n",
        "      address_regex = r'(?:[A-Z][a-z]*\\s?)+'\n",
        "      city_regex = r'(?:[A-Z][a-z]*\\s?)+'\n",
        "      state_regex = r'(?:[A-Z][a-z]*\\s?)+'\n",
        "      pin_regex = r'\\d{6}'\n",
        "\n",
        "      # Initialize variables\n",
        "      #company_name = ''\n",
        "      name1 = ''\n",
        "      designation1 = ''\n",
        "      mobile1 = []\n",
        "      email1 = ''\n",
        "      #url = ''\n",
        "      address1 = ''\n",
        "      #city = ''\n",
        "      #state = ''\n",
        "      #pin = ''\n",
        "\n",
        "      reader = easyocr.Reader(['en'])\n",
        "      results = reader.readtext(image_path)\n",
        "      data=[]\n",
        "      for i in results:\n",
        "        data.append(i[1])\n",
        "      name1=data[0]\n",
        "      job1=data[1]\n",
        "\n",
        "      # Loop through the results and extract relevant information\n",
        "      for result in data:\n",
        "          text = result\n",
        "          #if re.match(company_name_regex, text):\n",
        "          #    company_name = text\n",
        "          #elif re.match(name_regex, text):\n",
        "              #name = text\n",
        "          #elif re.match(designation_regex, text):\n",
        "              #designation = text\n",
        "          if re.match(mobile_regex, text):\n",
        "              mobile1.append(text)\n",
        "          elif re.match(email_regex, text):\n",
        "              email1 = text\n",
        "          elif re.match(address_regex, text):\n",
        "              address1 = text\n",
        "\n",
        "\n",
        "      data.remove(name1)\n",
        "      data.remove(job1)\n",
        "      data.remove(email1)\n",
        "      data.remove(address1)\n",
        "      for i in mobile1:\n",
        "        data.remove(i)\n",
        "\n",
        "      mobno = ','.join([str(elem) for elem in mobile1])\n",
        "      det={'Name':name1, 'Designation':job1,'Email':email1,'Address':address1, 'Mobile':mobno}\n",
        "      st.table(det)\n",
        "      if st.button('Upload to database'):\n",
        "        res=sqlcon(df2)\n",
        "        st.success(res)\n",
        "\n",
        "if __name__ == '__main__':\n",
        "\tmain()"
      ],
      "metadata": {
        "colab": {
          "base_uri": "https://localhost:8080/"
        },
        "id": "AOC8_7jUg8gG",
        "outputId": "50b40223-536c-46c4-8a95-4872cc4a5e20"
      },
      "execution_count": null,
      "outputs": [
        {
          "output_type": "stream",
          "name": "stdout",
          "text": [
            "Overwriting app.py\n"
          ]
        }
      ]
    },
    {
      "cell_type": "code",
      "source": [
        "!pip install pyngrok==4.1.1"
      ],
      "metadata": {
        "id": "hNJmua_Gg829"
      },
      "execution_count": null,
      "outputs": []
    },
    {
      "cell_type": "code",
      "source": [
        "!ngrok authtoken 2KmLhi9o9rhTfgnwUY03qPNSw2p_3nUjkV6j5CBE73Xz2rWy3"
      ],
      "metadata": {
        "colab": {
          "base_uri": "https://localhost:8080/"
        },
        "id": "IxnTH_TGhE1G",
        "outputId": "44c872e6-5186-4d8a-ca79-6995c0097ba2"
      },
      "execution_count": null,
      "outputs": [
        {
          "output_type": "stream",
          "name": "stdout",
          "text": [
            "Authtoken saved to configuration file: /root/.ngrok2/ngrok.yml\n"
          ]
        }
      ]
    },
    {
      "cell_type": "code",
      "source": [
        "!streamlit run --server.port 80 app.py &>/dev/null&\n",
        "from pyngrok import ngrok \n",
        "public_url = ngrok.connect(port='80')\n",
        "public_url"
      ],
      "metadata": {
        "colab": {
          "base_uri": "https://localhost:8080/",
          "height": 36
        },
        "id": "37-Gum33hGkV",
        "outputId": "83be69cb-2ebb-4964-9487-ad5cb5d077db"
      },
      "execution_count": null,
      "outputs": [
        {
          "output_type": "execute_result",
          "data": {
            "text/plain": [
              "'http://fc24-35-187-240-2.ngrok.io'"
            ],
            "application/vnd.google.colaboratory.intrinsic+json": {
              "type": "string"
            }
          },
          "metadata": {},
          "execution_count": 156
        }
      ]
    },
    {
      "cell_type": "code",
      "source": [
        "!pgrep streamlit\n",
        "!ps -eaf | grep streamlit\n",
        "ngrok.kill()"
      ],
      "metadata": {
        "colab": {
          "base_uri": "https://localhost:8080/"
        },
        "id": "2nb1d_oihH_d",
        "outputId": "b4ca926e-e2e8-4ddc-8dde-9f96111b778f"
      },
      "execution_count": null,
      "outputs": [
        {
          "output_type": "stream",
          "name": "stdout",
          "text": [
            "4470\n",
            "root        4470       1  2 06:26 ?        00:03:47 /usr/bin/python3 /usr/local/bin/streamlit run --server.port 80 app.py\n",
            "root       43097     935  0 09:01 ?        00:00:00 /bin/bash -c ps -eaf | grep streamlit\n",
            "root       43099   43097  0 09:01 ?        00:00:00 grep streamlit\n"
          ]
        }
      ]
    }
  ]
}